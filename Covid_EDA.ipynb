import numpy as np
import pandas as pd
import matplotlib.pyplot as plt
import plotly.express as px
%matplotlib inline
import seaborn as sns
sns.set()

from google.colab import drive
drive.mount('/content/drive')
path = '/content/drive/MyDrive/Colab Notebooks/Latest Covid-19 India Status.csv'
data = pd.read_csv(path)

# To display first n rows of data
n = int(input("Enter number of top rows to be viewed:--"))
data.head(n)

#To display the last n rows of dataset
l = int(input("Enter number of top rows to be viewed:--"))
data.tail(l)

#Get overall statisics about the Dataframe
data.describe(include='all')

data.shape

data.columns

data.info()

data.duplicated().sum()

data.isnull().sum()

numerical_features = data.select_dtypes(include = ['int', 'float']).columns.tolist()
print("Number of Numerical features:", len(numerical_features))
print(numerical_features)

categorical_features = data.select_dtypes(include = ['object']).columns.tolist()
print("Number of Categorical features:", len(categorical_features))
print(categorical_features)

print("mean Total Cases:", round(data["Total Cases"].mean()))

print("median Total Cases:", round(data["Total Cases"].median()))

print("max Total Cases :", round(data["Total Cases"].max()))

print("min Total Cases:", round(data["Total Cases"].min()))

data["Death Ratio"]. value_counts()

data["Active"]. value_counts()

data["State/UTs"]. value_counts()

sns.scatterplot(y='Active Ratio', x='Discharge Ratio',hue='State/UTs', data=data, )

# Placing Legend outside the Figure
plt.legend(bbox_to_anchor=(1, 1), loc=2)

plt.show()

sns.scatterplot(y='Active Ratio', x='Total Cases',hue='State/UTs', data=data, )

# Placing Legend outside the Figure
plt.legend(bbox_to_anchor=(1, 1), loc=2)

plt.show()

sns.displot(data['Death Ratio'],kde=True)
plt.show()

plt.figure(figsize = (20, 7))
sns.barplot(x = data["Active"], y = data["Total Cases"], palette = "Set3");

plt.figure(figsize = (20, 5))
ax = data["State/UTs"].value_counts()[:25].plot(kind = 'bar',
                                              color = "crimson")

for p in ax.patches:
    ax.annotate(int(p.get_height()), (p.get_x() + 0.25, p.get_height() + 1), ha = 'center', va = 'bottom', color = 'black')

plt.figure(figsize = (25, 10))
plt.grid()
plt.xticks(rotation = 90)
plt.ticklabel_format(style = 'plain')
data.sort_values("Total Cases", axis = 0,
                         ascending = False,
                         inplace = True)
sns.barplot(x = data["Death Ratio"][:100],
            y = data["Total Cases"],
            palette = "autumn");

fig = px.scatter(data, x = "Population", y = "Active Ratio", color = "Death Ratio")
fig.show()
